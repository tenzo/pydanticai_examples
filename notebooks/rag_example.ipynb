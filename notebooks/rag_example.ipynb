{
 "cells": [
  {
   "cell_type": "code",
   "id": "initial_id",
   "metadata": {
    "collapsed": true,
    "ExecuteTime": {
     "end_time": "2025-03-30T14:19:25.611545Z",
     "start_time": "2025-03-30T14:19:25.598376Z"
    }
   },
   "source": [
    "from dataclasses import dataclass\n",
    "\n",
    "from pydantic_ai import Agent, RunContext\n",
    "\n",
    "from pydanticai_examples.config import get_qdrant_config, get_openai_config\n",
    "from pydanticai_examples.vector_store import VectorStore\n",
    "from dotenv import load_dotenv\n",
    "from pydanticai_examples.utils import get_root\n"
   ],
   "outputs": [],
   "execution_count": 23
  },
  {
   "metadata": {
    "ExecuteTime": {
     "end_time": "2025-03-30T14:19:26.201807Z",
     "start_time": "2025-03-30T14:19:26.196457Z"
    }
   },
   "cell_type": "code",
   "source": "load_dotenv(get_root() / \".env\")",
   "id": "ac3979fa15e3f77b",
   "outputs": [
    {
     "data": {
      "text/plain": [
       "True"
      ]
     },
     "execution_count": 24,
     "metadata": {},
     "output_type": "execute_result"
    }
   ],
   "execution_count": 24
  },
  {
   "metadata": {
    "ExecuteTime": {
     "end_time": "2025-03-30T14:19:26.944135Z",
     "start_time": "2025-03-30T14:19:26.940783Z"
    }
   },
   "cell_type": "code",
   "source": [
    "@dataclass\n",
    "class ChosenRecipe:\n",
    "    \"\"\"Class to represent a chosen recipe\"\"\"\n",
    "    name: str\n",
    "    description: str\n",
    "    ingredients: list[str]\n",
    "    instructions: str\n",
    "\n",
    "    def __str__(self):\n",
    "        return f\"{self.name}: {self.description}\\nIngredients: {', '.join(self.ingredients)}\\nInstructions: {self.instructions}\""
   ],
   "id": "464f1282783b5a73",
   "outputs": [],
   "execution_count": 25
  },
  {
   "metadata": {
    "ExecuteTime": {
     "end_time": "2025-03-30T14:19:28.092275Z",
     "start_time": "2025-03-30T14:19:28.085935Z"
    }
   },
   "cell_type": "code",
   "source": [
    "cooking_agent = Agent[VectorStore, ChosenRecipe](\n",
    "    model='openai:gpt-4-turbo',\n",
    "    deps_type=VectorStore,\n",
    "    result_type=ChosenRecipe,\n",
    "    system_prompt=\"\"\"You are a professional dietitian. For a given list of ingredients that a user has in their stash,\n",
    "    you should suggest a recipe that uses those ingredients.\n",
    "    You should only use recipes that are contained in the vector database.\n",
    "    \"\"\"\n",
    ")"
   ],
   "id": "c76746a44fa0e9ba",
   "outputs": [],
   "execution_count": 26
  },
  {
   "metadata": {},
   "cell_type": "code",
   "outputs": [],
   "execution_count": null,
   "source": [
    "@cooking_agent.system_prompt\n",
    "async def include_user_name(ctx: RunContext[str]) -> str:\n",
    "    \"\"\"Include the user's name in the system prompt\"\"\"\n",
    "    return f\"The user name is {ctx.deps}\""
   ],
   "id": "6c98559ffe573c90"
  },
  {
   "metadata": {
    "ExecuteTime": {
     "end_time": "2025-03-30T14:19:29.095213Z",
     "start_time": "2025-03-30T14:19:29.089889Z"
    }
   },
   "cell_type": "code",
   "source": [
    "\n",
    "@cooking_agent.tool\n",
    "async def vector_search(ctx: RunContext[VectorStore], ingredients: list[str]) -> list[dict]:\n",
    "    \"\"\"Search the vector store for cooking recipes including the ingredients provided.\n",
    "\n",
    "    Args:\n",
    "        ingredients (list[str]): The list of ingredients the resulting\n",
    "            recipes should include.\n",
    "\n",
    "    Returns:\n",
    "        list[str]: List of recipes found for a given query.\n",
    "    \"\"\"\n",
    "    # Embed the query\n",
    "    ingredients_str = \", \".join(ingredients)\n",
    "    return await ctx.deps.search(ingredients_str)"
   ],
   "id": "346c2a67cbd3831",
   "outputs": [],
   "execution_count": 27
  },
  {
   "metadata": {
    "ExecuteTime": {
     "end_time": "2025-03-30T14:19:30.246081Z",
     "start_time": "2025-03-30T14:19:30.202226Z"
    }
   },
   "cell_type": "code",
   "source": [
    "# Instantiate the vector store\n",
    "qdrant_config = get_qdrant_config()\n",
    "openai_config = get_openai_config()\n",
    "vector_store = VectorStore(\n",
    "    url=qdrant_config.qdrant_url,\n",
    "    port=qdrant_config.qdrant_port,\n",
    "    collection_name=qdrant_config.qdrant_index_name,\n",
    "    openai_api_key=openai_config.openai_api_key,\n",
    ")"
   ],
   "id": "1ec6548da518a603",
   "outputs": [],
   "execution_count": 28
  },
  {
   "metadata": {
    "ExecuteTime": {
     "end_time": "2025-03-30T14:19:37.152458Z",
     "start_time": "2025-03-30T14:19:31.342682Z"
    }
   },
   "cell_type": "code",
   "source": "result = await cooking_agent.run(\"I have only milk and wheat\", deps=vector_store)",
   "id": "9b90b6a498be0a3d",
   "outputs": [],
   "execution_count": 29
  },
  {
   "metadata": {
    "ExecuteTime": {
     "end_time": "2025-03-30T13:42:18.260614Z",
     "start_time": "2025-03-30T13:42:18.257765Z"
    }
   },
   "cell_type": "code",
   "source": "result.data",
   "id": "e4b79c966fd2c784",
   "outputs": [
    {
     "data": {
      "text/plain": [
       "ChosenRecipe(name='Milk and Egg Fried Bread', description='A simple and delicious recipe that uses basic ingredients such as milk, butter, and bread. This dish is perfect for a quick breakfast or a comforting snack.', ingredients=['milk', 'butter', 'bread', 'sugar', 'cinnamon (optional)'], instructions='1. Beat the eggs and milk in a bowl.\\n2. Add the sugar and cinnamon.\\n3. Take one slice of bread and place it in the egg mixture, soak it on both sides for 30 seconds.\\n4. Meanwhile, melt the butter in the pan, making sure it doesn’t begin to brown.\\n5. Add the bread and fry for around 2 minutes on each side.\\n6. Optionally, leave out the sugar and have it with honey, jam, or syrup.')"
      ]
     },
     "execution_count": 21,
     "metadata": {},
     "output_type": "execute_result"
    }
   ],
   "execution_count": 21
  },
  {
   "metadata": {
    "ExecuteTime": {
     "end_time": "2025-03-30T13:37:08.898585Z",
     "start_time": "2025-03-30T13:37:08.888245Z"
    }
   },
   "cell_type": "code",
   "source": "result.all_messages()",
   "id": "82c041c1ce4550c0",
   "outputs": [
    {
     "data": {
      "text/plain": [
       "[ModelRequest(parts=[SystemPromptPart(content='You are a professional dietitian. For a given list of ingredients that a user has in their stash,\\nyou should suggest a recipe that uses those ingredients.\\nYou should only use recipes that are contained in the vector database.\\n    ', timestamp=datetime.datetime(2025, 3, 30, 13, 36, 32, 841600, tzinfo=datetime.timezone.utc), dynamic_ref=None, part_kind='system-prompt'), UserPromptPart(content='I have only milk and wheat', timestamp=datetime.datetime(2025, 3, 30, 13, 36, 32, 841608, tzinfo=datetime.timezone.utc), part_kind='user-prompt')], kind='request'),\n",
       " ModelResponse(parts=[ToolCallPart(tool_name='search', args='{\"ingredients\":[\"milk\",\"wheat\"]}', tool_call_id='call_Ce58s7l7wKEE1Cocarxg9Wbn', part_kind='tool-call')], model_name='gpt-4-turbo-2024-04-09', timestamp=datetime.datetime(2025, 3, 30, 13, 36, 33, tzinfo=datetime.timezone.utc), kind='response'),\n",
       " ModelRequest(parts=[ToolReturnPart(tool_name='search', content=[ScoredPoint(id='aebe2066-9ed5-5c06-94f4-83e5759bb393', version=1, score=0.38898265, payload={'document': '90ml/ /3 cup of milk\\n\\n1tablespoon butter\\n\\n4 slices of bread\\n\\n2 teaspoons sugar\\n\\n1 teaspoons cinnamon (optional)\\n\\nBeat the eggs and milk in a bowl.\\n\\nAdd the sugar and cinnamon.\\n\\nTake one slice of bread and place it in the egg mixture, soak it on both sides for 30 seconds.\\n\\n4 Meanwhile melt the butter in the pan, making sure it doesn’t begin to brown.\\n\\n5 Add the bread and fry for around 2 minutes on each side\\n\\nTasty Tips\\n\\nLeave out the sugar and have with honey, jam or weple or golden syrup.', 'element_type': 'text', 'document_meta': {'document_type': 'pdf', 'source': {'path': '/Users/tenzo/projects/cookbook_rag/recipes_docs/easy-pleasy-cookbook.pdf', 'source_type': 'local_file_source', 'id': 'local_file:/Users/tenzo/projects/cookbook_rag/recipes_docs/easy-pleasy-cookbook.pdf'}}, 'location': {'page_number': 14, 'coordinates': None}, 'content': '90ml/ /3 cup of milk\\n\\n1tablespoon butter\\n\\n4 slices of bread\\n\\n2 teaspoons sugar\\n\\n1 teaspoons cinnamon (optional)\\n\\nBeat the eggs and milk in a bowl.\\n\\nAdd the sugar and cinnamon.\\n\\nTake one slice of bread and place it in the egg mixture, soak it on both sides for 30 seconds.\\n\\n4 Meanwhile melt the butter in the pan, making sure it doesn’t begin to brown.\\n\\n5 Add the bread and fry for around 2 minutes on each side\\n\\nTasty Tips\\n\\nLeave out the sugar and have with honey, jam or weple or golden syrup.', 'text_representation': '90ml/ /3 cup of milk\\n\\n1tablespoon butter\\n\\n4 slices of bread\\n\\n2 teaspoons sugar\\n\\n1 teaspoons cinnamon (optional)\\n\\nBeat the eggs and milk in a bowl.\\n\\nAdd the sugar and cinnamon.\\n\\nTake one slice of bread and place it in the egg mixture, soak it on both sides for 30 seconds.\\n\\n4 Meanwhile melt the butter in the pan, making sure it doesn’t begin to brown.\\n\\n5 Add the bread and fry for around 2 minutes on each side\\n\\nTasty Tips\\n\\nLeave out the sugar and have with honey, jam or weple or golden syrup.', 'embedding_type': 'EmbeddingType.TEXT'}, vector=None, shard_key=None, order_value=None), ScoredPoint(id='4bcb33a5-81fd-5cb6-a7c2-9108d1692fbc', version=5, score=0.364537, payload={'document': '✪ This batter also works great in waffle makers!\\n\\n✪ No eggs? Replace them with 2 Tablespoons water.\\n\\n✪ Replace the milk with buttermilk. Also reduce the baking powder to 2 teaspoons and add ½ teaspoon baking soda.\\n\\n✪ Add ½ cup of fruits or vegetables to the liquid ingredients. Try grated or minced fresh apples, berries, mashed bananas, canned pumpkin, grated carrots or zucchini.\\n\\n✪ Replace up to half of the flour with whole-wheat flour.', 'element_type': 'text', 'document_meta': {'document_type': 'pdf', 'source': {'path': '/Users/tenzo/projects/cookbook_rag/recipes_docs/cookbook.pdf', 'source_type': 'local_file_source', 'id': 'local_file:/Users/tenzo/projects/cookbook_rag/recipes_docs/cookbook.pdf'}}, 'location': {'page_number': 7, 'coordinates': None}, 'content': '✪ This batter also works great in waffle makers!\\n\\n✪ No eggs? Replace them with 2 Tablespoons water.\\n\\n✪ Replace the milk with buttermilk. Also reduce the baking powder to 2 teaspoons and add ½ teaspoon baking soda.\\n\\n✪ Add ½ cup of fruits or vegetables to the liquid ingredients. Try grated or minced fresh apples, berries, mashed bananas, canned pumpkin, grated carrots or zucchini.\\n\\n✪ Replace up to half of the flour with whole-wheat flour.', 'text_representation': '✪ This batter also works great in waffle makers!\\n\\n✪ No eggs? Replace them with 2 Tablespoons water.\\n\\n✪ Replace the milk with buttermilk. Also reduce the baking powder to 2 teaspoons and add ½ teaspoon baking soda.\\n\\n✪ Add ½ cup of fruits or vegetables to the liquid ingredients. Try grated or minced fresh apples, berries, mashed bananas, canned pumpkin, grated carrots or zucchini.\\n\\n✪ Replace up to half of the flour with whole-wheat flour.', 'embedding_type': 'EmbeddingType.TEXT'}, vector=None, shard_key=None, order_value=None), ScoredPoint(id='4ae1e32e-c87f-5f4b-b902-a8249e00245d', version=4, score=0.3585551, payload={'document': 'Heat the milk, Meadowland Classique and half of the sugar on the stove till hot but not boiling.\\n\\nBeat together the flours, eggs, remaining sugar and vanilla till smooth.\\n\\nWhisk the hot milk and cream into the egg mix then return to the stove to thicken on a medium heat. Once thick, remove from stove and mix in the Marvello. Cover and set aside to cool completely.\\n\\nBUTTERCREAM:\\n\\nBeat together the Marvello, icing sugar and vanilla to make the vanilla icing. Set aside.', 'element_type': 'text', 'document_meta': {'document_type': 'pdf', 'source': {'path': '/Users/tenzo/projects/cookbook_rag/recipes_docs/Recipe-Book-1-2.pdf', 'source_type': 'local_file_source', 'id': 'local_file:/Users/tenzo/projects/cookbook_rag/recipes_docs/Recipe-Book-1-2.pdf'}}, 'location': {'page_number': 138, 'coordinates': None}, 'content': 'Heat the milk, Meadowland Classique and half of the sugar on the stove till hot but not boiling.\\n\\nBeat together the flours, eggs, remaining sugar and vanilla till smooth.\\n\\nWhisk the hot milk and cream into the egg mix then return to the stove to thicken on a medium heat. Once thick, remove from stove and mix in the Marvello. Cover and set aside to cool completely.\\n\\nBUTTERCREAM:\\n\\nBeat together the Marvello, icing sugar and vanilla to make the vanilla icing. Set aside.', 'text_representation': 'Heat the milk, Meadowland Classique and half of the sugar on the stove till hot but not boiling.\\n\\nBeat together the flours, eggs, remaining sugar and vanilla till smooth.\\n\\nWhisk the hot milk and cream into the egg mix then return to the stove to thicken on a medium heat. Once thick, remove from stove and mix in the Marvello. Cover and set aside to cool completely.\\n\\nBUTTERCREAM:\\n\\nBeat together the Marvello, icing sugar and vanilla to make the vanilla icing. Set aside.', 'embedding_type': 'EmbeddingType.TEXT'}, vector=None, shard_key=None, order_value=None), ScoredPoint(id='0dd80fa2-7e06-5e7d-913c-316b7cbcabbe', version=0, score=0.35286748, payload={'document': '1 cup nonfat or 1% milk (add 2 more Tablespoons for thinner pancakes)\\n\\n2 Tablespoons vegetable oil\\n\\n1 teaspoon vanilla, if desired\\n\\nDirections\\n\\n1. Mix together the flour, baking powder, sugar and salt in a medium bowl. Add the spice, if desired.\\n\\n2. In a separate bowl, beat the egg until well blended. Add the milk and oil. Add the vanilla, if desired.\\n\\n3. Add the dry ingredients to the liquids and stir just until the lumps disappear.', 'element_type': 'text', 'document_meta': {'document_type': 'pdf', 'source': {'path': '/Users/tenzo/projects/cookbook_rag/recipes_docs/cookbook_small.pdf', 'source_type': 'local_file_source', 'id': 'local_file:/Users/tenzo/projects/cookbook_rag/recipes_docs/cookbook_small.pdf'}}, 'location': {'page_number': 3, 'coordinates': None}, 'content': '1 cup nonfat or 1% milk (add 2 more Tablespoons for thinner pancakes)\\n\\n2 Tablespoons vegetable oil\\n\\n1 teaspoon vanilla, if desired\\n\\nDirections\\n\\n1. Mix together the flour, baking powder, sugar and salt in a medium bowl. Add the spice, if desired.\\n\\n2. In a separate bowl, beat the egg until well blended. Add the milk and oil. Add the vanilla, if desired.\\n\\n3. Add the dry ingredients to the liquids and stir just until the lumps disappear.', 'text_representation': '1 cup nonfat or 1% milk (add 2 more Tablespoons for thinner pancakes)\\n\\n2 Tablespoons vegetable oil\\n\\n1 teaspoon vanilla, if desired\\n\\nDirections\\n\\n1. Mix together the flour, baking powder, sugar and salt in a medium bowl. Add the spice, if desired.\\n\\n2. In a separate bowl, beat the egg until well blended. Add the milk and oil. Add the vanilla, if desired.\\n\\n3. Add the dry ingredients to the liquids and stir just until the lumps disappear.', 'embedding_type': 'EmbeddingType.TEXT'}, vector=None, shard_key=None, order_value=None), ScoredPoint(id='6eb9c26c-9074-52c1-b5e1-8184e5481885', version=4, score=0.35235363, payload={'document': '500ml milk 200g Marvello Bake 560g Supreme Cake Flour 2 Tbsp baking powder 4 tsp ground cinnamon 1/2 tsp salt 8 eggs, large 500g Selati Castor Sugar 2 tsp vanilla extract\\n\\nFOR THE FILLING:\\n\\n500ml milk 500ml Meadowland Classique 4 eggs, large 40g cornflour 40g Supreme Cake Flour 200g Selati White Sugar 1 tsp vanilla extract 100g Marvello Bake\\n\\nFOR THE BUTTERCREAM:\\n\\n125g Marvello Bake 200g Selati Icing Sugar 1 tsp vanilla extract\\n\\nMETHOD', 'element_type': 'text', 'document_meta': {'document_type': 'pdf', 'source': {'path': '/Users/tenzo/projects/cookbook_rag/recipes_docs/Recipe-Book-1-2.pdf', 'source_type': 'local_file_source', 'id': 'local_file:/Users/tenzo/projects/cookbook_rag/recipes_docs/Recipe-Book-1-2.pdf'}}, 'location': {'page_number': 138, 'coordinates': None}, 'content': '500ml milk 200g Marvello Bake 560g Supreme Cake Flour 2 Tbsp baking powder 4 tsp ground cinnamon 1/2 tsp salt 8 eggs, large 500g Selati Castor Sugar 2 tsp vanilla extract\\n\\nFOR THE FILLING:\\n\\n500ml milk 500ml Meadowland Classique 4 eggs, large 40g cornflour 40g Supreme Cake Flour 200g Selati White Sugar 1 tsp vanilla extract 100g Marvello Bake\\n\\nFOR THE BUTTERCREAM:\\n\\n125g Marvello Bake 200g Selati Icing Sugar 1 tsp vanilla extract\\n\\nMETHOD', 'text_representation': '500ml milk 200g Marvello Bake 560g Supreme Cake Flour 2 Tbsp baking powder 4 tsp ground cinnamon 1/2 tsp salt 8 eggs, large 500g Selati Castor Sugar 2 tsp vanilla extract\\n\\nFOR THE FILLING:\\n\\n500ml milk 500ml Meadowland Classique 4 eggs, large 40g cornflour 40g Supreme Cake Flour 200g Selati White Sugar 1 tsp vanilla extract 100g Marvello Bake\\n\\nFOR THE BUTTERCREAM:\\n\\n125g Marvello Bake 200g Selati Icing Sugar 1 tsp vanilla extract\\n\\nMETHOD', 'embedding_type': 'EmbeddingType.TEXT'}, vector=None, shard_key=None, order_value=None)], tool_call_id='call_Ce58s7l7wKEE1Cocarxg9Wbn', timestamp=datetime.datetime(2025, 3, 30, 13, 36, 34, 164100, tzinfo=datetime.timezone.utc), part_kind='tool-return')], kind='request'),\n",
       " ModelResponse(parts=[TextPart(content=\"Based on the ingredients you have, milk and wheat, here is a potential recipe you could try:\\n\\n**Milk Toast**\\n\\nIngredients:\\n- 90ml (approximately 1/3 cup) of milk\\n- 1 tablespoon butter\\n- 4 slices of bread (you can use your wheat to make bread if you have)\\n- 2 teaspoons sugar\\n- 1 teaspoon cinnamon (optional)\\n\\nInstructions:\\n1. Beat the eggs and milk in a bowl.\\n2. Add the sugar and cinnamon.\\n3. Take one slice of bread and place it in the egg mixture, soaking it on both sides for 30 seconds.\\n4. Meanwhile, melt the butter in a pan, making sure it doesn’t begin to brown.\\n5. Add the soaked bread and fry for around 2 minutes on each side until golden brown.\\n6. Serve as is or with honey, jam, or syrup for added flavor.\\n\\nThis simple and delicious recipe makes use of basic ingredients and doesn't require many additional items. Enjoy your homemade milk toast!\", part_kind='text')], model_name='gpt-4-turbo-2024-04-09', timestamp=datetime.datetime(2025, 3, 30, 13, 36, 34, tzinfo=datetime.timezone.utc), kind='response')]"
      ]
     },
     "execution_count": 9,
     "metadata": {},
     "output_type": "execute_result"
    }
   ],
   "execution_count": 9
  },
  {
   "metadata": {
    "ExecuteTime": {
     "end_time": "2025-03-30T13:43:21.947049Z",
     "start_time": "2025-03-30T13:43:21.937102Z"
    }
   },
   "cell_type": "code",
   "source": "result.usage()",
   "id": "69ec9a3d4d8488b4",
   "outputs": [
    {
     "data": {
      "text/plain": [
       "Usage(requests=2, request_tokens=3066, response_tokens=213, total_tokens=3279, details={'accepted_prediction_tokens': 0, 'audio_tokens': 0, 'reasoning_tokens': 0, 'rejected_prediction_tokens': 0, 'cached_tokens': 0})"
      ]
     },
     "execution_count": 22,
     "metadata": {},
     "output_type": "execute_result"
    }
   ],
   "execution_count": 22
  },
  {
   "metadata": {},
   "cell_type": "code",
   "outputs": [],
   "execution_count": null,
   "source": "",
   "id": "7cdda87a5a6a6571"
  }
 ],
 "metadata": {
  "kernelspec": {
   "display_name": "Python 3",
   "language": "python",
   "name": "python3"
  },
  "language_info": {
   "codemirror_mode": {
    "name": "ipython",
    "version": 2
   },
   "file_extension": ".py",
   "mimetype": "text/x-python",
   "name": "python",
   "nbconvert_exporter": "python",
   "pygments_lexer": "ipython2",
   "version": "2.7.6"
  }
 },
 "nbformat": 4,
 "nbformat_minor": 5
}
