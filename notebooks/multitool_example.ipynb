{
 "cells": [
  {
   "cell_type": "code",
   "id": "initial_id",
   "metadata": {
    "collapsed": true,
    "ExecuteTime": {
     "end_time": "2025-04-02T18:52:50.764297Z",
     "start_time": "2025-04-02T18:52:46.856758Z"
    }
   },
   "source": [
    "from dataclasses import dataclass\n",
    "\n",
    "from pydantic_ai import Agent, RunContext, ModelRetry\n",
    "from pydantic_ai.models import ModelResponse\n",
    "from pydantic_ai.messages import ToolCallPart\n",
    "\n",
    "from pydanticai_examples.config import get_qdrant_config, get_openai_config, get_todoist_config\n",
    "from pydanticai_examples.vector_store import VectorStore\n",
    "from pydanticai_examples.todoist import TodoistClient\n",
    "from dotenv import load_dotenv\n",
    "from pydanticai_examples.utils import get_root\n"
   ],
   "outputs": [],
   "execution_count": 1
  },
  {
   "metadata": {
    "ExecuteTime": {
     "end_time": "2025-04-02T18:52:50.777636Z",
     "start_time": "2025-04-02T18:52:50.771425Z"
    }
   },
   "cell_type": "code",
   "source": "load_dotenv(get_root() / \".env\")",
   "id": "ac3979fa15e3f77b",
   "outputs": [
    {
     "data": {
      "text/plain": [
       "True"
      ]
     },
     "execution_count": 2,
     "metadata": {},
     "output_type": "execute_result"
    }
   ],
   "execution_count": 2
  },
  {
   "metadata": {
    "ExecuteTime": {
     "end_time": "2025-04-02T18:52:51.518224Z",
     "start_time": "2025-04-02T18:52:51.515711Z"
    }
   },
   "cell_type": "code",
   "source": [
    "@dataclass\n",
    "class RecipeAgentDeps:\n",
    "    \"\"\"Class to represent the dependencies for the Recipe Agent\"\"\"\n",
    "    vector_store: VectorStore\n",
    "    todoist_client: TodoistClient"
   ],
   "id": "2c9597e6f557cae6",
   "outputs": [],
   "execution_count": 3
  },
  {
   "metadata": {
    "ExecuteTime": {
     "end_time": "2025-04-02T18:52:52.068774Z",
     "start_time": "2025-04-02T18:52:52.066172Z"
    }
   },
   "cell_type": "code",
   "source": [
    "@dataclass\n",
    "class ChosenRecipe:\n",
    "    \"\"\"Class to represent a chosen recipe\"\"\"\n",
    "    name: str\n",
    "    description: str\n",
    "    ingredients: list[str]\n",
    "    instructions: str\n",
    "\n",
    "    def __str__(self):\n",
    "        return f\"{self.name}: {self.description}\\nIngredients: {', '.join(self.ingredients)}\\nInstructions: {self.instructions}\""
   ],
   "id": "464f1282783b5a73",
   "outputs": [],
   "execution_count": 4
  },
  {
   "metadata": {
    "ExecuteTime": {
     "end_time": "2025-04-02T18:52:52.734718Z",
     "start_time": "2025-04-02T18:52:52.517574Z"
    }
   },
   "cell_type": "code",
   "source": [
    "cooking_agent = Agent[RecipeAgentDeps, ChosenRecipe](\n",
    "    model='openai:gpt-4-turbo',\n",
    "    deps_type=RecipeAgentDeps,\n",
    "    result_type=ChosenRecipe,\n",
    "    system_prompt=\"\"\"You are a professional dietitian. For a given list of ingredients that a user has in their stash, you should suggest a recipe that uses those ingredients.\n",
    "You should only use recipes that are contained in the vector database.\n",
    "\n",
    "If the list of ingredients provided by the user is missing some of the ingredients from the chosen recipe, create a Todoist task to buy a missing ingredients.\n",
    "The task title should be \"Buy missing ingredients for {recipe_name}\".\n",
    "The task details should include the list of missing ingredients.\n",
    "    \"\"\"\n",
    ")"
   ],
   "id": "c76746a44fa0e9ba",
   "outputs": [],
   "execution_count": 5
  },
  {
   "metadata": {
    "ExecuteTime": {
     "end_time": "2025-04-02T18:52:53.025572Z",
     "start_time": "2025-04-02T18:52:53.019100Z"
    }
   },
   "cell_type": "code",
   "source": [
    "\n",
    "@cooking_agent.tool\n",
    "async def search_for_recipes(ctx: RunContext[RecipeAgentDeps], ingredients: list[str]) -> list[dict]:\n",
    "    \"\"\"Search the vector store for cooking recipes\n",
    "    including the ingredients provided.\n",
    "\n",
    "    Args:\n",
    "        ingredients (list[str]): The list of ingredients the resulting\n",
    "            recipes should include.\n",
    "\n",
    "    Returns:\n",
    "        list[str]: List of recipes found for a given query.\n",
    "    \"\"\"\n",
    "    # Embed the query\n",
    "    ingredients_str = \", \".join(ingredients)\n",
    "    return await ctx.deps.vector_store.search(ingredients_str)"
   ],
   "id": "346c2a67cbd3831",
   "outputs": [],
   "execution_count": 6
  },
  {
   "metadata": {
    "ExecuteTime": {
     "end_time": "2025-04-02T18:52:53.606500Z",
     "start_time": "2025-04-02T18:52:53.603355Z"
    }
   },
   "cell_type": "code",
   "source": [
    "@cooking_agent.tool\n",
    "async def add_task_to_todoist(ctx: RunContext[RecipeAgentDeps], task_title: str, task_details: str) -> list[dict]:\n",
    "    \"\"\"Add a task to Todoist todo app.\n",
    "\n",
    "    Args:\n",
    "        task_title (str): The title of the task.\n",
    "        task_details (str): The details of the task.\n",
    "\n",
    "    Returns:\n",
    "        list[dict]: The created task.\n",
    "    \"\"\"\n",
    "    return await ctx.deps.todoist_client.add_task(task_title, task_details)"
   ],
   "id": "19a2d0316b3a32b3",
   "outputs": [],
   "execution_count": 7
  },
  {
   "metadata": {
    "ExecuteTime": {
     "end_time": "2025-04-02T18:52:54.347269Z",
     "start_time": "2025-04-02T18:52:54.343812Z"
    }
   },
   "cell_type": "code",
   "source": [
    "@cooking_agent.result_validator\n",
    "async def check_if_task_added(ctx: RunContext[RecipeAgentDeps], result: ChosenRecipe) -> ChosenRecipe:\n",
    "    \"\"\"Validator to check if a task was added to Todoist.\n",
    "\n",
    "    Args:\n",
    "        ctx (RunContext[RecipeAgentDeps]): The context of the run.\n",
    "        result (ChosenRecipe): The result of the agent.\n",
    "\n",
    "    Returns:\n",
    "        ChosenRecipe: The result of the agent.\n",
    "\n",
    "    Raises:\n",
    "        ModelRetry: If the agent did not create a task to buy missing ingredients.\n",
    "    \"\"\"\n",
    "    todoist_used = False\n",
    "    for msg in ctx.messages:\n",
    "        if isinstance(msg, ModelResponse):\n",
    "            for part in msg.parts:\n",
    "                if isinstance(part, ToolCallPart):\n",
    "                    if part.tool_name == \"add_task_to_todoist\":\n",
    "                        todoist_used = True\n",
    "                        break\n",
    "    if not todoist_used:\n",
    "        raise ModelRetry(\"The agent did not create a task to buy missing ingredients.\")\n",
    "    return result\n"
   ],
   "id": "c0db0f2d7e981ed6",
   "outputs": [],
   "execution_count": 8
  },
  {
   "metadata": {
    "ExecuteTime": {
     "end_time": "2025-04-02T18:52:55.133687Z",
     "start_time": "2025-04-02T18:52:55.097209Z"
    }
   },
   "cell_type": "code",
   "source": [
    "# Instantiate the vector store\n",
    "qdrant_config = get_qdrant_config()\n",
    "openai_config = get_openai_config()\n",
    "vector_store = VectorStore(\n",
    "    url=qdrant_config.qdrant_url,\n",
    "    port=qdrant_config.qdrant_port,\n",
    "    collection_name=qdrant_config.qdrant_index_name,\n",
    "    openai_api_key=openai_config.openai_api_key,\n",
    ")\n",
    "\n",
    "# Instantiate the Todoist client\n",
    "todoist_config = get_todoist_config()\n",
    "todoist_client = TodoistClient(\n",
    "    api_key=todoist_config.todoist_api_key,\n",
    "    project=todoist_config.todoist_project,\n",
    ")\n",
    "\n",
    "# Gather dependencies into a single object\n",
    "deps = RecipeAgentDeps(\n",
    "    vector_store=vector_store,\n",
    "    todoist_client=todoist_client,\n",
    ")"
   ],
   "id": "1ec6548da518a603",
   "outputs": [],
   "execution_count": 9
  },
  {
   "metadata": {
    "ExecuteTime": {
     "end_time": "2025-04-02T18:53:19.684705Z",
     "start_time": "2025-04-02T18:52:56.199754Z"
    }
   },
   "cell_type": "code",
   "source": "result = await cooking_agent.run(\"I have only milk and wheat\", deps=deps)",
   "id": "9b90b6a498be0a3d",
   "outputs": [],
   "execution_count": 10
  },
  {
   "metadata": {
    "ExecuteTime": {
     "end_time": "2025-04-02T18:53:21.199796Z",
     "start_time": "2025-04-02T18:53:21.197925Z"
    }
   },
   "cell_type": "code",
   "source": "result.data",
   "id": "e4b79c966fd2c784",
   "outputs": [],
   "execution_count": 11
  },
  {
   "metadata": {
    "ExecuteTime": {
     "end_time": "2025-04-02T18:53:28.908797Z",
     "start_time": "2025-04-02T18:53:28.905648Z"
    }
   },
   "cell_type": "code",
   "source": "result.all_messages()",
   "id": "82c041c1ce4550c0",
   "outputs": [
    {
     "data": {
      "text/plain": [
       "[ModelRequest(parts=[SystemPromptPart(content='You are a professional dietitian. For a given list of ingredients that a user has in their stash, you should suggest a recipe that uses those ingredients.\\nYou should only use recipes that are contained in the vector database.\\n\\nIf the list of ingredients provided by the user is missing some of the ingredients from the chosen recipe, create a Todoist task to buy a missing ingredients.\\nThe task title should be \"Buy missing ingredients for {recipe_name}\".\\nThe task details should include the list of missing ingredients.\\n    ', timestamp=datetime.datetime(2025, 4, 2, 18, 52, 56, 201034, tzinfo=datetime.timezone.utc), dynamic_ref=None, part_kind='system-prompt'), UserPromptPart(content='I have only milk and wheat', timestamp=datetime.datetime(2025, 4, 2, 18, 52, 56, 201036, tzinfo=datetime.timezone.utc), part_kind='user-prompt')], kind='request'),\n",
       " ModelResponse(parts=[ToolCallPart(tool_name='search_for_recipes', args='{\"ingredients\":[\"milk\",\"wheat\"]}', tool_call_id='call_yF9rODTf5cHr4WT3PSWRpaT9', part_kind='tool-call')], model_name='gpt-4-turbo-2024-04-09', timestamp=datetime.datetime(2025, 4, 2, 18, 52, 56, tzinfo=datetime.timezone.utc), kind='response'),\n",
       " ModelRequest(parts=[ToolReturnPart(tool_name='search_for_recipes', content=['90ml/ /3 cup of milk\\n\\n1tablespoon butter\\n\\n4 slices of bread\\n\\n2 teaspoons sugar\\n\\n1 teaspoons cinnamon (optional)\\n\\nBeat the eggs and milk in a bowl.\\n\\nAdd the sugar and cinnamon.\\n\\nTake one slice of bread and place it in the egg mixture, soak it on both sides for 30 seconds.\\n\\n4 Meanwhile melt the butter in the pan, making sure it doesn’t begin to brown.\\n\\n5 Add the bread and fry for around 2 minutes on each side\\n\\nTasty Tips\\n\\nLeave out the sugar and have with honey, jam or weple or golden syrup.', '✪ This batter also works great in waffle makers!\\n\\n✪ No eggs? Replace them with 2 Tablespoons water.\\n\\n✪ Replace the milk with buttermilk. Also reduce the baking powder to 2 teaspoons and add ½ teaspoon baking soda.\\n\\n✪ Add ½ cup of fruits or vegetables to the liquid ingredients. Try grated or minced fresh apples, berries, mashed bananas, canned pumpkin, grated carrots or zucchini.\\n\\n✪ Replace up to half of the flour with whole-wheat flour.', 'Heat the milk, Meadowland Classique and half of the sugar on the stove till hot but not boiling.\\n\\nBeat together the flours, eggs, remaining sugar and vanilla till smooth.\\n\\nWhisk the hot milk and cream into the egg mix then return to the stove to thicken on a medium heat. Once thick, remove from stove and mix in the Marvello. Cover and set aside to cool completely.\\n\\nBUTTERCREAM:\\n\\nBeat together the Marvello, icing sugar and vanilla to make the vanilla icing. Set aside.', '1 cup nonfat or 1% milk (add 2 more Tablespoons for thinner pancakes)\\n\\n2 Tablespoons vegetable oil\\n\\n1 teaspoon vanilla, if desired\\n\\nDirections\\n\\n1. Mix together the flour, baking powder, sugar and salt in a medium bowl. Add the spice, if desired.\\n\\n2. In a separate bowl, beat the egg until well blended. Add the milk and oil. Add the vanilla, if desired.\\n\\n3. Add the dry ingredients to the liquids and stir just until the lumps disappear.', '500ml milk 200g Marvello Bake 560g Supreme Cake Flour 2 Tbsp baking powder 4 tsp ground cinnamon 1/2 tsp salt 8 eggs, large 500g Selati Castor Sugar 2 tsp vanilla extract\\n\\nFOR THE FILLING:\\n\\n500ml milk 500ml Meadowland Classique 4 eggs, large 40g cornflour 40g Supreme Cake Flour 200g Selati White Sugar 1 tsp vanilla extract 100g Marvello Bake\\n\\nFOR THE BUTTERCREAM:\\n\\n125g Marvello Bake 200g Selati Icing Sugar 1 tsp vanilla extract\\n\\nMETHOD'], tool_call_id='call_yF9rODTf5cHr4WT3PSWRpaT9', timestamp=datetime.datetime(2025, 4, 2, 18, 53, 1, 976706, tzinfo=datetime.timezone.utc), part_kind='tool-return')], kind='request'),\n",
       " ModelResponse(parts=[ToolCallPart(tool_name='final_result', args='{\"name\":\"Simple Milk and Wheat Pancakes\",\"description\":\"A quick and easy recipe perfect for a hearty breakfast. Enjoy fluffy pancakes using basic kitchen staples.\",\"ingredients\":[\"1 cup milk\",\"2 cups wheat flour\",\"1 tablespoon sugar\",\"1/2 teaspoon salt\",\"2 tablespoons vegetable oil\",\"1 teaspoon baking powder\"],\"instructions\":\"1. Mix together the wheat flour, baking powder, sugar, and salt in a medium bowl.\\\\n2. In a separate bowl, mix the milk and vegetable oil until well blended.\\\\n3. Gradually add the dry ingredients to the wet mixture, stirring just until the lumps disappear.\\\\n4. Heat a skillet over medium heat and lightly grease it. Pour 1/4 cup of batter for each pancake. Cook until bubbles form on the surface, then flip and cook until golden brown on the other side.\\\\n5. Serve hot with your favorite toppings.\"}', tool_call_id='call_me7SwjFOHCvbNmgj3FFs0fXy', part_kind='tool-call')], model_name='gpt-4-turbo-2024-04-09', timestamp=datetime.datetime(2025, 4, 2, 18, 53, 2, tzinfo=datetime.timezone.utc), kind='response'),\n",
       " ModelRequest(parts=[RetryPromptPart(content='The agent did not create a task to buy missing ingredients.', tool_name='final_result', tool_call_id='call_me7SwjFOHCvbNmgj3FFs0fXy', timestamp=datetime.datetime(2025, 4, 2, 18, 53, 9, 393371, tzinfo=datetime.timezone.utc), part_kind='retry-prompt')], kind='request'),\n",
       " ModelResponse(parts=[ToolCallPart(tool_name='add_task_to_todoist', args='{\"task_title\":\"Buy missing ingredients for Simple Milk and Wheat Pancakes\",\"task_details\":\"Missing Ingredients: \\\\n- 2 cups wheat flour\\\\n- 1 tablespoon sugar\\\\n- 1/2 teaspoon salt\\\\n- 2 tablespoons vegetable oil\\\\n- 1 teaspoon baking powder\"}', tool_call_id='call_9iZJNF8PUUD5BW1cVCM5QM6C', part_kind='tool-call')], model_name='gpt-4-turbo-2024-04-09', timestamp=datetime.datetime(2025, 4, 2, 18, 53, 9, tzinfo=datetime.timezone.utc), kind='response'),\n",
       " ModelRequest(parts=[ToolReturnPart(tool_name='add_task_to_todoist', content=Task(assignee_id=None, assigner_id=None, comment_count=0, is_completed=False, content='Buy missing ingredients for Simple Milk and Wheat Pancakes', created_at='2025-04-02T18:53:13.851187Z', creator_id='18079813', description='Missing Ingredients: \\n- 2 cups wheat flour\\n- 1 tablespoon sugar\\n- 1/2 teaspoon salt\\n- 2 tablespoons vegetable oil\\n- 1 teaspoon baking powder', due=None, id='9033680143', labels=[], order=4, parent_id=None, priority=1, project_id='2351350292', section_id=None, url='https://app.todoist.com/app/task/9033680143', duration=None, sync_id=None), tool_call_id='call_9iZJNF8PUUD5BW1cVCM5QM6C', timestamp=datetime.datetime(2025, 4, 2, 18, 53, 14, 355162, tzinfo=datetime.timezone.utc), part_kind='tool-return')], kind='request'),\n",
       " ModelResponse(parts=[ToolCallPart(tool_name='final_result', args='{\"name\":\"Simple Milk and Wheat Pancakes\",\"description\":\"A quick and easy recipe perfect for a hearty breakfast. Enjoy fluffy pancakes using basic kitchen staples.\",\"ingredients\":[\"1 cup milk\",\"2 cups wheat flour\",\"1 tablespoon sugar\",\"1/2 teaspoon salt\",\"2 tablespoons vegetable oil\",\"1 teaspoon baking powder\"],\"instructions\":\"1. Mix together the wheat flour, baking powder, sugar, and salt in a medium bowl.\\\\n2. In a separate bowl, mix the milk and vegetable oil until well blended.\\\\n3. Gradually add the dry ingredients to the wet mixture, stirring just until the lumps disappear.\\\\n4. Heat a skillet over medium heat and lightly grease it. Pour 1/4 cup of batter for each pancake. Cook until bubbles form on the surface, then flip and cook until golden brown on the other side.\\\\n5. Serve hot with your favorite toppings.\"}', tool_call_id='call_Js15sEpIDMbCncDGC9P4v6fb', part_kind='tool-call')], model_name='gpt-4-turbo-2024-04-09', timestamp=datetime.datetime(2025, 4, 2, 18, 53, 14, tzinfo=datetime.timezone.utc), kind='response'),\n",
       " ModelRequest(parts=[ToolReturnPart(tool_name='final_result', content='Final result processed.', tool_call_id='call_Js15sEpIDMbCncDGC9P4v6fb', timestamp=datetime.datetime(2025, 4, 2, 18, 53, 19, 682628, tzinfo=datetime.timezone.utc), part_kind='tool-return')], kind='request')]"
      ]
     },
     "execution_count": 12,
     "metadata": {},
     "output_type": "execute_result"
    }
   ],
   "execution_count": 12
  },
  {
   "metadata": {
    "ExecuteTime": {
     "end_time": "2025-03-30T14:25:54.332137Z",
     "start_time": "2025-03-30T14:25:45.310899Z"
    }
   },
   "cell_type": "code",
   "source": [
    "result = await cooking_agent.run(\"Why didn't you create a task to buy the missing ingredients?\",\n",
    "                                 deps=deps, message_history=result.new_messages())"
   ],
   "id": "69ec9a3d4d8488b4",
   "outputs": [],
   "execution_count": 19
  },
  {
   "metadata": {
    "ExecuteTime": {
     "end_time": "2025-03-30T14:26:07.342681Z",
     "start_time": "2025-03-30T14:26:07.326142Z"
    }
   },
   "cell_type": "code",
   "source": "result.new_messages()",
   "id": "7cdda87a5a6a6571",
   "outputs": [
    {
     "data": {
      "text/plain": [
       "[ModelRequest(parts=[UserPromptPart(content=\"Why didn't you create a task to buy the missing ingredients?\", timestamp=datetime.datetime(2025, 3, 30, 14, 25, 45, 321186, tzinfo=datetime.timezone.utc), part_kind='user-prompt')], kind='request'),\n",
       " ModelResponse(parts=[ToolCallPart(tool_name='add_task_to_todoist', args='{\"task_title\":\"Buy missing ingredients for French Toast with Cinnamon\",\"task_details\":\"Eggs, Sugar, Cinnamon, Butter, Bread\"}', tool_call_id='call_SoxUpr3Pi0GxB06oVZYgLmca', part_kind='tool-call')], model_name='gpt-4-turbo-2024-04-09', timestamp=datetime.datetime(2025, 3, 30, 14, 25, 45, tzinfo=datetime.timezone.utc), kind='response'),\n",
       " ModelRequest(parts=[ToolReturnPart(tool_name='add_task_to_todoist', content=Task(assignee_id=None, assigner_id=None, comment_count=0, is_completed=False, content='Buy missing ingredients for French Toast with Cinnamon', created_at='2025-03-30T14:25:49.058141Z', creator_id='18079813', description='Eggs, Sugar, Cinnamon, Butter, Bread', due=None, id='9021730093', labels=[], order=1, parent_id=None, priority=1, project_id='2351350292', section_id=None, url='https://app.todoist.com/app/task/9021730093', duration=None, sync_id=None), tool_call_id='call_SoxUpr3Pi0GxB06oVZYgLmca', timestamp=datetime.datetime(2025, 3, 30, 14, 25, 49, 526226, tzinfo=datetime.timezone.utc), part_kind='tool-return')], kind='request'),\n",
       " ModelResponse(parts=[ToolCallPart(tool_name='final_result', args='{\"name\":\"French Toast with Cinnamon\",\"description\":\"A delightful and easy breakfast recipe featuring soft, cinnamon-infused slices of bread soaked in a mixture of milk and eggs, then pan-fried to perfection.\",\"ingredients\":[\"milk\",\"eggs\",\"sugar\",\"cinnamon\",\"butter\",\"bread\"],\"instructions\":\"1. Beat the eggs and milk in a bowl. 2. Add the sugar and cinnamon. 3. Soak bread slices in the egg mixture on both sides for about 30 seconds. 4. Melt butter in a pan and fry the bread slices for about 2 minutes on each side. Serve warm with your favorite toppings.\"}', tool_call_id='call_IaNfkqRrIUPEAGBTiFgmqZ5j', part_kind='tool-call')], model_name='gpt-4-turbo-2024-04-09', timestamp=datetime.datetime(2025, 3, 30, 14, 25, 49, tzinfo=datetime.timezone.utc), kind='response'),\n",
       " ModelRequest(parts=[ToolReturnPart(tool_name='final_result', content='Final result processed.', tool_call_id='call_IaNfkqRrIUPEAGBTiFgmqZ5j', timestamp=datetime.datetime(2025, 3, 30, 14, 25, 54, 329805, tzinfo=datetime.timezone.utc), part_kind='tool-return')], kind='request')]"
      ]
     },
     "execution_count": 20,
     "metadata": {},
     "output_type": "execute_result"
    }
   ],
   "execution_count": 20
  },
  {
   "metadata": {},
   "cell_type": "code",
   "outputs": [],
   "execution_count": null,
   "source": "",
   "id": "b96020ae4523c1b6"
  }
 ],
 "metadata": {
  "kernelspec": {
   "display_name": "Python 3",
   "language": "python",
   "name": "python3"
  },
  "language_info": {
   "codemirror_mode": {
    "name": "ipython",
    "version": 2
   },
   "file_extension": ".py",
   "mimetype": "text/x-python",
   "name": "python",
   "nbconvert_exporter": "python",
   "pygments_lexer": "ipython2",
   "version": "2.7.6"
  }
 },
 "nbformat": 4,
 "nbformat_minor": 5
}
