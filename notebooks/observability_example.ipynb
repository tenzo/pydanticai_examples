{
 "cells": [
  {
   "cell_type": "code",
   "id": "initial_id",
   "metadata": {
    "collapsed": true,
    "ExecuteTime": {
     "end_time": "2025-04-02T19:20:40.702593Z",
     "start_time": "2025-04-02T19:20:39.625700Z"
    }
   },
   "source": [
    "from dataclasses import dataclass\n",
    "\n",
    "from dotenv import load_dotenv\n",
    "import logfire\n",
    "from pydantic_ai import Agent, RunContext, ModelRetry\n",
    "from pydantic_ai.models import ModelResponse\n",
    "from pydantic_ai.messages import ToolCallPart\n",
    "\n",
    "from pydanticai_examples.config import get_qdrant_config, get_openai_config, get_todoist_config, get_logfire_config\n",
    "from pydanticai_examples.vector_store import VectorStore\n",
    "from pydanticai_examples.todoist import TodoistClient\n",
    "from pydanticai_examples.utils import get_root"
   ],
   "outputs": [],
   "execution_count": 1
  },
  {
   "metadata": {
    "ExecuteTime": {
     "end_time": "2025-04-02T19:20:41.776603Z",
     "start_time": "2025-04-02T19:20:41.771289Z"
    }
   },
   "cell_type": "code",
   "source": "load_dotenv(get_root() / \".env\")",
   "id": "ac3979fa15e3f77b",
   "outputs": [
    {
     "data": {
      "text/plain": [
       "True"
      ]
     },
     "execution_count": 2,
     "metadata": {},
     "output_type": "execute_result"
    }
   ],
   "execution_count": 2
  },
  {
   "metadata": {
    "ExecuteTime": {
     "end_time": "2025-04-02T19:20:42.492448Z",
     "start_time": "2025-04-02T19:20:42.427614Z"
    }
   },
   "cell_type": "code",
   "source": [
    "#Configure logfire\n",
    "logfire_config = get_logfire_config()\n",
    "logfire.configure(token=logfire_config.logfire_token)\n",
    "logfire.instrument_openai()"
   ],
   "id": "ab6ad8ee6a289e7a",
   "outputs": [
    {
     "data": {
      "text/plain": [
       "<contextlib._GeneratorContextManager at 0x11a96d7f0>"
      ]
     },
     "execution_count": 3,
     "metadata": {},
     "output_type": "execute_result"
    }
   ],
   "execution_count": 3
  },
  {
   "metadata": {
    "ExecuteTime": {
     "end_time": "2025-04-02T19:20:43.088267Z",
     "start_time": "2025-04-02T19:20:43.086077Z"
    }
   },
   "cell_type": "code",
   "source": [
    "@dataclass\n",
    "class RecipeAgentDeps:\n",
    "    \"\"\"Class to represent the dependencies for the Recipe Agent\"\"\"\n",
    "    vector_store: VectorStore\n",
    "    todoist_client: TodoistClient"
   ],
   "id": "2c9597e6f557cae6",
   "outputs": [],
   "execution_count": 4
  },
  {
   "metadata": {
    "ExecuteTime": {
     "end_time": "2025-04-02T19:20:43.743583Z",
     "start_time": "2025-04-02T19:20:43.741142Z"
    }
   },
   "cell_type": "code",
   "source": [
    "@dataclass\n",
    "class ChosenRecipe:\n",
    "    \"\"\"Class to represent a chosen recipe\"\"\"\n",
    "    name: str\n",
    "    description: str\n",
    "    ingredients: list[str]\n",
    "    instructions: str\n",
    "\n",
    "    def __str__(self):\n",
    "        return f\"{self.name}: {self.description}\\nIngredients: {', '.join(self.ingredients)}\\nInstructions: {self.instructions}\""
   ],
   "id": "464f1282783b5a73",
   "outputs": [],
   "execution_count": 5
  },
  {
   "metadata": {
    "ExecuteTime": {
     "end_time": "2025-04-02T19:20:44.437843Z",
     "start_time": "2025-04-02T19:20:44.382120Z"
    }
   },
   "cell_type": "code",
   "source": [
    "cooking_agent = Agent[RecipeAgentDeps, ChosenRecipe](\n",
    "    model='openai:gpt-4-turbo',\n",
    "    deps_type=RecipeAgentDeps,\n",
    "    result_type=ChosenRecipe,\n",
    "    instrument=True,\n",
    "    system_prompt=\"\"\"You are a professional dietitian. For a given list of ingredients that a user has in their stash, you should suggest a recipe that uses those ingredients.\n",
    "You should only use recipes that are contained in the vector database.\n",
    "\n",
    "If the list of ingredients provided by the user is missing some of the ingredients from the chosen recipe, create a Todoist task to buy a missing ingredients.\n",
    "The task title should be \"Buy missing ingredients for {recipe_name}\".\n",
    "The task details should include the list of missing ingredients.\n",
    "    \"\"\"\n",
    ")"
   ],
   "id": "c76746a44fa0e9ba",
   "outputs": [],
   "execution_count": 6
  },
  {
   "metadata": {
    "ExecuteTime": {
     "end_time": "2025-04-02T19:20:45.522129Z",
     "start_time": "2025-04-02T19:20:45.517359Z"
    }
   },
   "cell_type": "code",
   "source": [
    "\n",
    "@cooking_agent.tool\n",
    "async def search_for_recipes(ctx: RunContext[RecipeAgentDeps], ingredients: list[str]) -> list[dict]:\n",
    "    \"\"\"Search the vector store for cooking recipes\n",
    "    including the ingredients provided.\n",
    "\n",
    "    Args:\n",
    "        ingredients (list[str]): The list of ingredients the resulting\n",
    "            recipes should include.\n",
    "\n",
    "    Returns:\n",
    "        list[str]: List of recipes found for a given query.\n",
    "    \"\"\"\n",
    "    # Embed the query\n",
    "    ingredients_str = \", \".join(ingredients)\n",
    "    return await ctx.deps.vector_store.search(ingredients_str)"
   ],
   "id": "346c2a67cbd3831",
   "outputs": [],
   "execution_count": 7
  },
  {
   "metadata": {
    "ExecuteTime": {
     "end_time": "2025-04-02T19:20:46.497885Z",
     "start_time": "2025-04-02T19:20:46.495262Z"
    }
   },
   "cell_type": "code",
   "source": [
    "@cooking_agent.tool\n",
    "async def add_task_to_todoist(ctx: RunContext[RecipeAgentDeps], task_title: str, task_details: str) -> list[dict]:\n",
    "    \"\"\"Add a task to Todoist todo app.\n",
    "\n",
    "    Args:\n",
    "        task_title (str): The title of the task.\n",
    "        task_details (str): The details of the task.\n",
    "\n",
    "    Returns:\n",
    "        list[dict]: The created task.\n",
    "    \"\"\"\n",
    "    return await ctx.deps.todoist_client.add_task(task_title, task_details)"
   ],
   "id": "19a2d0316b3a32b3",
   "outputs": [],
   "execution_count": 8
  },
  {
   "metadata": {
    "ExecuteTime": {
     "end_time": "2025-04-02T19:20:47.842261Z",
     "start_time": "2025-04-02T19:20:47.836942Z"
    }
   },
   "cell_type": "code",
   "source": [
    "@cooking_agent.result_validator\n",
    "async def check_if_task_added(ctx: RunContext[RecipeAgentDeps], result: ChosenRecipe) -> ChosenRecipe:\n",
    "    \"\"\"Validator to check if a task was added to Todoist.\n",
    "\n",
    "    Args:\n",
    "        ctx (RunContext[RecipeAgentDeps]): The context of the run.\n",
    "        result (ChosenRecipe): The result of the agent.\n",
    "\n",
    "    Returns:\n",
    "        ChosenRecipe: The result of the agent.\n",
    "\n",
    "    Raises:\n",
    "        ModelRetry: If the agent did not create a task to buy missing ingredients.\n",
    "    \"\"\"\n",
    "    todoist_used = False\n",
    "    for msg in ctx.messages:\n",
    "        if isinstance(msg, ModelResponse):\n",
    "            for part in msg.parts:\n",
    "                if isinstance(part, ToolCallPart):\n",
    "                    if part.tool_name == \"add_task_to_todoist\":\n",
    "                        todoist_used = True\n",
    "                        break\n",
    "    if not todoist_used:\n",
    "        raise ModelRetry(\"The agent did not create a task to buy missing ingredients.\")\n",
    "    return result\n"
   ],
   "id": "c0db0f2d7e981ed6",
   "outputs": [],
   "execution_count": 9
  },
  {
   "metadata": {
    "ExecuteTime": {
     "end_time": "2025-04-02T19:20:49.072249Z",
     "start_time": "2025-04-02T19:20:49.039528Z"
    }
   },
   "cell_type": "code",
   "source": [
    "# Instantiate the vector store\n",
    "qdrant_config = get_qdrant_config()\n",
    "openai_config = get_openai_config()\n",
    "vector_store = VectorStore(\n",
    "    url=qdrant_config.qdrant_url,\n",
    "    port=qdrant_config.qdrant_port,\n",
    "    collection_name=qdrant_config.qdrant_index_name,\n",
    "    openai_api_key=openai_config.openai_api_key,\n",
    ")\n",
    "\n",
    "# Instantiate the Todoist client\n",
    "todoist_config = get_todoist_config()\n",
    "todoist_client = TodoistClient(\n",
    "    api_key=todoist_config.todoist_api_key,\n",
    "    project=todoist_config.todoist_project,\n",
    ")\n",
    "\n",
    "# Gather dependencies into a single object\n",
    "deps = RecipeAgentDeps(\n",
    "    vector_store=vector_store,\n",
    "    todoist_client=todoist_client,\n",
    ")"
   ],
   "id": "1ec6548da518a603",
   "outputs": [],
   "execution_count": 10
  },
  {
   "metadata": {
    "ExecuteTime": {
     "end_time": "2025-04-02T19:21:10.833750Z",
     "start_time": "2025-04-02T19:20:50.608609Z"
    }
   },
   "cell_type": "code",
   "source": "result = await cooking_agent.run(\"I have only milk and wheat\", deps=deps)",
   "id": "9b90b6a498be0a3d",
   "outputs": [
    {
     "name": "stdout",
     "output_type": "stream",
     "text": [
      "19:20:50.610 cooking_agent run\n",
      "19:20:50.611   preparing model request params\n",
      "19:20:50.612   chat gpt-4-turbo\n",
      "19:20:50.622     Chat Completion with 'gpt-4-turbo' [LLM]\n",
      "19:20:52.507   running tools: search_for_recipes\n",
      "19:20:52.508     Embedding Creation with 'text-embedding-3-small' [LLM]\n",
      "19:20:52.921   preparing model request params\n",
      "19:20:52.921   chat gpt-4-turbo\n",
      "19:20:52.925     Chat Completion with 'gpt-4-turbo' [LLM]\n",
      "19:20:59.310   preparing model request params\n",
      "19:20:59.311   chat gpt-4-turbo\n",
      "19:20:59.317     Chat Completion with 'gpt-4-turbo' [LLM]\n"
     ]
    }
   ],
   "execution_count": 11
  },
  {
   "metadata": {
    "ExecuteTime": {
     "end_time": "2025-04-02T19:23:14.244097Z",
     "start_time": "2025-04-02T19:23:14.238703Z"
    }
   },
   "cell_type": "code",
   "source": "result.data",
   "id": "e4b79c966fd2c784",
   "outputs": [
    {
     "data": {
      "text/plain": [
       "ChosenRecipe(name='French Toast', description='Simple french toast recipe that can be enjoyed with various toppings.', ingredients=['milk', 'butter', 'bread', 'sugar', 'cinnamon', 'eggs'], instructions='1. Beat the eggs and milk in a bowl.\\n2. Add the sugar and cinnamon.\\n3. Take one slice of bread and place it in the egg mixture, soak it on both sides for 30 seconds.\\n4. Melt the butter in the pan, making sure it doesn’t begin to brown.\\n5. Add the bread and fry for around 2 minutes on each side.\\nOptional: Leave out the sugar and have with honey, jam or maple or golden syrup.')"
      ]
     },
     "execution_count": 12,
     "metadata": {},
     "output_type": "execute_result"
    }
   ],
   "execution_count": 12
  },
  {
   "metadata": {
    "ExecuteTime": {
     "end_time": "2025-04-02T19:17:41.241777Z",
     "start_time": "2025-04-02T19:17:41.237894Z"
    }
   },
   "cell_type": "code",
   "source": "result.usage()",
   "id": "e93ae54957f2ce86",
   "outputs": [
    {
     "data": {
      "text/plain": [
       "Usage(requests=2, request_tokens=1339, response_tokens=213, total_tokens=1552, details={'accepted_prediction_tokens': 0, 'audio_tokens': 0, 'reasoning_tokens': 0, 'rejected_prediction_tokens': 0, 'cached_tokens': 0})"
      ]
     },
     "execution_count": 13,
     "metadata": {},
     "output_type": "execute_result"
    }
   ],
   "execution_count": 13
  },
  {
   "metadata": {},
   "cell_type": "code",
   "outputs": [],
   "execution_count": null,
   "source": "",
   "id": "3d6e47ed16826ae1"
  }
 ],
 "metadata": {
  "kernelspec": {
   "display_name": "Python 3",
   "language": "python",
   "name": "python3"
  },
  "language_info": {
   "codemirror_mode": {
    "name": "ipython",
    "version": 2
   },
   "file_extension": ".py",
   "mimetype": "text/x-python",
   "name": "python",
   "nbconvert_exporter": "python",
   "pygments_lexer": "ipython2",
   "version": "2.7.6"
  }
 },
 "nbformat": 4,
 "nbformat_minor": 5
}
